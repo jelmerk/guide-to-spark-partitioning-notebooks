{
  "metadata" : {
    "config" : {
      "dependencies" : {
        "scala" : [
          "org.apache.spark:spark-avro_2.11:2.4.4",
          "com.github.jelmerk:hnswlib-spark_2.3.0_2.11:0.0.46"
        ]
      },
      "exclusions" : [
        "com.google.guava:guava"
      ],
      "repositories" : [
        {
          "maven" : {
            "base" : "file:///home/user/.m2/repository"
          }
        }
      ],
      "sparkConfig" : {
        "spark.master" : "local[*]",
        "spark.app.name" : "polynote",
        "spark.serializer" : "org.apache.spark.serializer.KryoSerializer",
        "spark.driver.memory" : "8g"
      },
      "env" : {
        
      }
    },
    "language_info" : {
      "name" : "scala"
    }
  },
  "nbformat" : 4,
  "nbformat_minor" : 0,
  "cells" : [
    {
      "cell_type" : "markdown",
      "execution_count" : 0,
      "metadata" : {
        "language" : "text"
      },
      "language" : "text",
      "source" : [
        "# guide to spark partitioning: RDD union\n",
        "\n",
        "\n",
        "This is a text cell. Start editing!\n",
        "\n",
        "\n"
      ],
      "outputs" : [
      ]
    },
    {
      "cell_type" : "code",
      "execution_count" : 1,
      "metadata" : {
        "cell.metadata.exec_info" : {
          "startTs" : 1604354965479,
          "endTs" : 1604354965780
        },
        "language" : "scala"
      },
      "language" : "scala",
      "source" : [
        "import org.apache.spark.Partitioner\n",
        "import org.apache.spark.rdd.RDD"
      ],
      "outputs" : [
      ]
    },
    {
      "cell_type" : "code",
      "execution_count" : 2,
      "metadata" : {
        "cell.metadata.exec_info" : {
          "startTs" : 1604354965798,
          "endTs" : 1604354966165
        },
        "language" : "scala"
      },
      "language" : "scala",
      "source" : [
        "spark.version"
      ],
      "outputs" : [
        {
          "execution_count" : 2,
          "data" : {
            "text/plain" : [
              "2.4.7"
            ]
          },
          "metadata" : {
            "name" : "Out",
            "type" : "String"
          },
          "output_type" : "execute_result"
        }
      ]
    },
    {
      "cell_type" : "code",
      "execution_count" : 3,
      "metadata" : {
        "cell.metadata.exec_info" : {
          "startTs" : 1604354966224,
          "endTs" : 1604354966513
        },
        "language" : "scala"
      },
      "language" : "scala",
      "source" : [
        "class CustomHashPartitioner(override val numPartitions: Int) extends Partitioner {\n",
        "  override def getPartition(key: Any): Int = key.hashCode % numPartitions\n",
        "}"
      ],
      "outputs" : [
      ]
    },
    {
      "cell_type" : "code",
      "execution_count" : 4,
      "metadata" : {
        "cell.metadata.exec_info" : {
          "startTs" : 1604354977427,
          "endTs" : 1604354978051
        },
        "language" : "scala"
      },
      "language" : "scala",
      "source" : [
        "def createRdd(name: String, numRecords: Int): RDD[(Int, String)] = {\n",
        "    val data = Range.inclusive(1, numRecords).map { value =>\n",
        "        value -> s\"$name-value\"\n",
        "    }\n",
        "    spark.sparkContext\n",
        "        .parallelize(data)\n",
        "}"
      ],
      "outputs" : [
      ]
    },
    {
      "cell_type" : "markdown",
      "execution_count" : 5,
      "metadata" : {
        "language" : "text"
      },
      "language" : "text",
      "source" : [
        "If all input RDDs have the same Partitioner and equal number of partitions, then the number of partitions in the resultant RDD is same as in each of the input RDD.\n",
        "\n"
      ],
      "outputs" : [
      ]
    },
    {
      "cell_type" : "code",
      "execution_count" : 6,
      "metadata" : {
        "cell.metadata.exec_info" : {
          "startTs" : 1604355016277,
          "endTs" : 1604355017515
        },
        "language" : "scala"
      },
      "language" : "scala",
      "source" : [
        "val partitioner = new CustomHashPartitioner(5)\n",
        "\n",
        "val a = createRdd(\"a\", 1000).partitionBy(partitioner)\n",
        "val b = createRdd(\"a\", 500).partitionBy(partitioner)\n",
        "val c = a.union(b)\n",
        "\n",
        "c.getNumPartitions"
      ],
      "outputs" : [
        {
          "execution_count" : 6,
          "data" : {
            "text/plain" : [
              "5"
            ]
          },
          "metadata" : {
            "name" : "Out",
            "type" : "Int"
          },
          "output_type" : "execute_result"
        }
      ]
    },
    {
      "cell_type" : "markdown",
      "execution_count" : 7,
      "metadata" : {
        "language" : "text"
      },
      "language" : "text",
      "source" : [
        "If input RDDs differ in number of partitions or have different Partitioners, then the Union transformation adds up the number\n",
        "of partitions in all the parent RDDs to determine the number of partitions in the output RDD. This is true even when one of the\n",
        "RDD among all the input RDDs possess different partitioners or different number of partitions as compared to the rest of the lot."
      ],
      "outputs" : [
      ]
    },
    {
      "cell_type" : "code",
      "execution_count" : 8,
      "metadata" : {
        "cell.metadata.exec_info" : {
          "startTs" : 1604355256700,
          "endTs" : 1604355257404
        },
        "language" : "scala"
      },
      "language" : "scala",
      "source" : [
        "val partitioner = new CustomHashPartitioner(5)\n",
        "\n",
        "val a = createRdd(\"a\", 1000).partitionBy(partitioner)\n",
        "val b = createRdd(\"b\", 500).repartition(5)\n",
        "val c = a.union(b)\n",
        "\n",
        "c.getNumPartitions"
      ],
      "outputs" : [
        {
          "execution_count" : 8,
          "data" : {
            "text/plain" : [
              "10"
            ]
          },
          "metadata" : {
            "name" : "Out",
            "type" : "Int"
          },
          "output_type" : "execute_result"
        }
      ]
    },
    {
      "cell_type" : "markdown",
      "execution_count" : 9,
      "metadata" : {
        "language" : "text"
      },
      "language" : "text",
      "source" : [
        "If Partitioner is absent in one or more input RDDs, then, also the Union transformation adds up the number of partitions in the\n",
        "input RDDs to determine the number of partitions in the output RDD. This is true even when all the input RDDs have same\n",
        "number of partitions."
      ],
      "outputs" : [
      ]
    },
    {
      "cell_type" : "code",
      "execution_count" : 10,
      "metadata" : {
        "cell.metadata.exec_info" : {
          "startTs" : 1604355355284,
          "endTs" : 1604355355805
        },
        "language" : "scala"
      },
      "language" : "scala",
      "source" : [
        "val partitioner = new CustomHashPartitioner(5)\n",
        "\n",
        "val a = createRdd(\"a\", 1000).partitionBy(partitioner)\n",
        "val b = createRdd(\"b\", 500)\n",
        "val c = a.union(b)\n",
        "\n",
        "c.getNumPartitions"
      ],
      "outputs" : [
        {
          "execution_count" : 10,
          "data" : {
            "text/plain" : [
              "13"
            ]
          },
          "metadata" : {
            "name" : "Out",
            "type" : "Int"
          },
          "output_type" : "execute_result"
        }
      ]
    }
  ]
}